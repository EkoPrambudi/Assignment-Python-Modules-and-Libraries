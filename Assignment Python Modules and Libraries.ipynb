{
 "cells": [
  {
   "cell_type": "code",
   "execution_count": 5,
   "id": "3ef03758",
   "metadata": {},
   "outputs": [
    {
     "name": "stdout",
     "output_type": "stream",
     "text": [
      "Enter the value of side 'a': 5\n",
      "Enter the value of side 'b': 6\n",
      "Hypotenuse of the right-angled triangle: 7.810249675906654\n",
      "Square root of 25 is: 5.0\n",
      "Random number between 1 and 100: 65\n"
     ]
    }
   ],
   "source": [
    "import math_operations\n",
    "import random\n",
    "\n",
    "a = float(input(\"Enter the value of side 'a': \"))\n",
    "b = float(input(\"Enter the value of side 'b': \"))\n",
    "\n",
    "hypotenuse = math_operations.calculate_hypotenuse(a, b)\n",
    "print(f\"Hypotenuse of the right-angled triangle: {hypotenuse}\")\n",
    "\n",
    "positive_number = 25\n",
    "sqrt_result = math_operations.square_root(positive_number)\n",
    "print(f\"Square root of {positive_number} is: {sqrt_result}\")\n",
    "\n",
    "random_num = random.randint(1, 100)\n",
    "print(f\"Random number between 1 and 100: {random_num}\")"
   ]
  },
  {
   "cell_type": "code",
   "execution_count": null,
   "id": "e58de960",
   "metadata": {},
   "outputs": [],
   "source": []
  }
 ],
 "metadata": {
  "kernelspec": {
   "display_name": "Python 3 (ipykernel)",
   "language": "python",
   "name": "python3"
  },
  "language_info": {
   "codemirror_mode": {
    "name": "ipython",
    "version": 3
   },
   "file_extension": ".py",
   "mimetype": "text/x-python",
   "name": "python",
   "nbconvert_exporter": "python",
   "pygments_lexer": "ipython3",
   "version": "3.10.9"
  }
 },
 "nbformat": 4,
 "nbformat_minor": 5
}
